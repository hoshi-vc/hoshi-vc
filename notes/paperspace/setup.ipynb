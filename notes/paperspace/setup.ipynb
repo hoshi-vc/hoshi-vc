{
 "cells": [
  {
   "cell_type": "code",
   "execution_count": null,
   "metadata": {},
   "outputs": [],
   "source": [
    "# First-time\n",
    "\n",
    "!mkdir -p /notebooks/data\n",
    "!ln -s ~/data/datasets /notebooks/data/\n",
    "!ln -s ~/data/feats /notebooks/data/\n",
    "!ln -s ~/data/vocoder /notebooks/data/\n",
    "# !git config user.name hoshi-vc\n",
    "# !git config user.email hoshi-vc@o137.net"
   ]
  },
  {
   "cell_type": "code",
   "execution_count": null,
   "metadata": {},
   "outputs": [],
   "source": [
    "%pip install -q --no-dependencies -e /notebooks"
   ]
  },
  {
   "cell_type": "code",
   "execution_count": null,
   "metadata": {},
   "outputs": [],
   "source": [
    "!git pull --all"
   ]
  },
  {
   "cell_type": "code",
   "execution_count": null,
   "metadata": {},
   "outputs": [],
   "source": [
    "!code tunnel"
   ]
  },
  {
   "attachments": {},
   "cell_type": "markdown",
   "metadata": {},
   "source": [
    "Copyright 2023 Hoshi-VC Developer <hoshi-vc@o137.net>.\n",
    "\n",
    "This Source Code Form is subject to the terms of the Mozilla Public License, v. 2.0.\n",
    "\n",
    "If a copy of the MPL was not distributed with this file, You can obtain one at https://mozilla.org/MPL/2.0/."
   ]
  }
 ],
 "metadata": {
  "language_info": {
   "name": "python"
  },
  "orig_nbformat": 4
 },
 "nbformat": 4,
 "nbformat_minor": 2
}
